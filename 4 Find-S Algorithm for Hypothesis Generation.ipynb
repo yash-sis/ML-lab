{
 "cells": [
  {
   "cell_type": "code",
   "execution_count": null,
   "id": "fcec0a95",
   "metadata": {},
   "outputs": [
    {
     "name": "stdout",
     "output_type": "stream",
     "text": [
      "Training data:\n",
      "    Outlook Temperature Humidity  Windy PlayTennis\n",
      "0     Sunny         Hot     High  False         No\n",
      "1     Sunny         Hot     High   True         No\n",
      "2  Overcast         Hot     High  False        Yes\n",
      "3      Rain        Cold     High  False        Yes\n",
      "4      Rain        Cold     High   True         No\n",
      "5  Overcast         Hot     High   True        Yes\n",
      "6     Sunny         Hot     High  False         No\n",
      "\n",
      "The final hypothesis is: ['?', '?', 'High', '?']\n"
     ]
    }
   ],
   "source": [
    "import pandas as pd\n",
    "\n",
    "def find_s_algorithm(file_path):\n",
    "    # Load and display the training data\n",
    "    data = pd.read_csv(file_path)\n",
    "    print(\"Training data:\")\n",
    "    print(data)\n",
    "\n",
    "    # Identify attributes and class label\n",
    "    attributes = data.columns[:-1]\n",
    "    class_label = data.columns[-1]\n",
    "\n",
    "    # Initialize the hypothesis\n",
    "    hypothesis = None\n",
    "\n",
    "    # Process each row and update the hypothesis for positive examples\n",
    "    for _, row in data.iterrows():\n",
    "        if row[class_label] == 'Yes':\n",
    "            if hypothesis is None:\n",
    "                hypothesis = list(row[attributes])\n",
    "            else:\n",
    "                for i, value in enumerate(row[attributes]):\n",
    "                    if hypothesis[i] != value:\n",
    "                        hypothesis[i] = '?'\n",
    "\n",
    "    return hypothesis\n",
    "\n",
    "# Run the function and display the final hypothesis\n",
    "file_path = 'training_data.csv'\n",
    "hypothesis = find_s_algorithm(file_path)\n",
    "print(\"\\nThe final hypothesis is:\", hypothesis)\n"
   ]
  }
 ],
 "metadata": {
  "kernelspec": {
   "display_name": "Python 3",
   "language": "python",
   "name": "python3"
  },
  "language_info": {
   "codemirror_mode": {
    "name": "ipython",
    "version": 3
   },
   "file_extension": ".py",
   "mimetype": "text/x-python",
   "name": "python",
   "nbconvert_exporter": "python",
   "pygments_lexer": "ipython3",
   "version": "3.12.4"
  }
 },
 "nbformat": 4,
 "nbformat_minor": 5
}
